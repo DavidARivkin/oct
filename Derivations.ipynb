{
 "metadata": {
  "name": "Derivations"
 }, 
 "nbformat": 2, 
 "worksheets": [
  {
   "cells": [
    {
     "cell_type": "code", 
     "collapsed": true, 
     "input": [
      "from sympy import *"
     ], 
     "language": "python", 
     "outputs": [], 
     "prompt_number": 5
    }, 
    {
     "cell_type": "code", 
     "collapsed": false, 
     "input": [
      "lmbd,dlmbd,lmbd0,L = map(Symbol,['\\\\lambda','\\\\Delta\\\\lambda', '\\\\lambda_0','L'])", 
      "nu,nu0,dtau,dnu,c = map(Symbol,['\\\\nu', '\\\\nu0','\\\\Delta \\\\tau','\\\\Delta \\\\nu','c'])"
     ], 
     "language": "python", 
     "outputs": [], 
     "prompt_number": 59
    }, 
    {
     "cell_type": "code", 
     "collapsed": false, 
     "input": [
      "S = cos(2*pi*nu*dtau)*exp(ln(2)*(nu-nu0)**2/(dnu*2)**2)", 
      "S"
     ], 
     "language": "python", 
     "outputs": [
      {
       "latex": [
        "$\\operatorname{cos}\\left(2 \\pi \\Delta \\tau \\nu\\right) e^{\\frac{\\left(\\nu - \\nu0\\right)^{2} \\operatorname{log}\\left(2\\right)}{4 \\Delta \\nu^{2}}}$"
       ], 
       "output_type": "pyout", 
       "png": "[encoded data removed]", 
       "prompt_number": 60, 
       "text": [
        "", 
        "                                      2       ", 
        "                          (\\nu - \\nu0) \u22c5log(2)", 
        "                          \u2500\u2500\u2500\u2500\u2500\u2500\u2500\u2500\u2500\u2500\u2500\u2500\u2500\u2500\u2500\u2500\u2500\u2500\u2500\u2500", 
        "                                         2    ", 
        "                             4\u22c5\\Delta \\nu     ", 
        "cos(2\u22c5\u03c0\u22c5\\Delta \\tau\u22c5\\nu)\u22c5\u212f                    "
       ]
      }
     ], 
     "prompt_number": 60
    }, 
    {
     "cell_type": "code", 
     "collapsed": false, 
     "input": [
      "Sl = S.subs(nu,c/lmbd).subs(dtau,L/c).subs(nu0,c/lmbd0).subs(dnu,c/lmbd0**2*dlmbd)", 
      "Sl"
     ], 
     "language": "python", 
     "outputs": [
      {
       "latex": [
        "$\\operatorname{cos}\\left(2 \\frac{\\pi L}{\\lambda}\\right) e^{\\frac{\\lambda_{0}^{4} \\left(\\frac{c}{\\lambda} - \\frac{c}{\\lambda_{0}}\\right)^{2} \\operatorname{log}\\left(2\\right)}{4 \\Delta\\lambda^{2} c^{2}}}$"
       ], 
       "output_type": "pyout", 
       "png": "[encoded data removed]", 
       "prompt_number": 64, 
       "text": [
        "", 
        "                                            2       ", 
        "                      4 \u239b   c         c    \u239e        ", 
        "              \\lambda\u2080 \u22c5\u239c\u2500\u2500\u2500\u2500\u2500\u2500\u2500 - \u2500\u2500\u2500\u2500\u2500\u2500\u2500\u2500\u239f \u22c5log(2)", 
        "                        \u239d\\lambda   \\lambda\u2080\u23a0        ", 
        "              \u2500\u2500\u2500\u2500\u2500\u2500\u2500\u2500\u2500\u2500\u2500\u2500\u2500\u2500\u2500\u2500\u2500\u2500\u2500\u2500\u2500\u2500\u2500\u2500\u2500\u2500\u2500\u2500\u2500\u2500\u2500\u2500\u2500\u2500\u2500\u2500\u2500\u2500", 
        "                                      2  2          ", 
        "   \u239b 2\u22c5\u03c0\u22c5L \u239e           4\u22c5\\Delta\\lambda \u22c5c           ", 
        "cos\u239c\u2500\u2500\u2500\u2500\u2500\u2500\u2500\u239f\u22c5\u212f                                      ", 
        "   \u239d\\lambda\u23a0                                        "
       ]
      }
     ], 
     "prompt_number": 64
    }, 
    {
     "cell_type": "code", 
     "collapsed": false, 
     "input": [
      "sdlmbd = Symbol('\\\\delta \\\\lambda')", 
      "d = 1/(lmbd0+sdlmbd)-1/lmbd0", 
      "d"
     ], 
     "language": "python", 
     "outputs": [
      {
       "latex": [
        "$\\frac{1}{\\delta \\lambda + \\lambda_{0}} - \\frac{1}{\\lambda_{0}}$"
       ], 
       "output_type": "pyout", 
       "png": "[encoded data removed]", 
       "prompt_number": 84, 
       "text": [
        "", 
        "            1                  1    ", 
        "\u2500\u2500\u2500\u2500\u2500\u2500\u2500\u2500\u2500\u2500\u2500\u2500\u2500\u2500\u2500\u2500\u2500\u2500\u2500\u2500\u2500\u2500\u2500\u2500\u2500 - \u2500\u2500\u2500\u2500\u2500\u2500\u2500\u2500", 
        "\\delta \\lambda + \\lambda\u2080   \\lambda\u2080"
       ]
      }
     ], 
     "prompt_number": 84
    }, 
    {
     "cell_type": "markdown", 
     "source": [
      "Where $\\delta\\lambda = \\lambda - \\lambda_0$"
     ]
    }, 
    {
     "cell_type": "code", 
     "collapsed": false, 
     "input": [
      "series(d,sdlmbd,n=3)"
     ], 
     "language": "python", 
     "outputs": [
      {
       "latex": [
        "$\\frac{\\delta \\lambda^{2}}{\\lambda_{0}^{3}} - \\frac{\\delta \\lambda}{\\lambda_{0}^{2}} + \\operatorname{\\mathcal{O}}\\left(\\delta \\lambda^{3}\\right)$"
       ], 
       "output_type": "pyout", 
       "png": "[encoded data removed]", 
       "prompt_number": 86, 
       "text": [
        "", 
        "              2                                        ", 
        "\\delta \\lambda    \\delta \\lambda                       ", 
        "\u2500\u2500\u2500\u2500\u2500\u2500\u2500\u2500\u2500\u2500\u2500\u2500\u2500\u2500\u2500 - \u2500\u2500\u2500\u2500\u2500\u2500\u2500\u2500\u2500\u2500\u2500\u2500\u2500\u2500 + O(\\delta \\lambda**3)", 
        "           3                2                          ", 
        "   \\lambda\u2080         \\lambda\u2080                           "
       ]
      }
     ], 
     "prompt_number": 86
    }, 
    {
     "cell_type": "markdown", 
     "source": [
      "Replacing Sl with series"
     ]
    }, 
    {
     "cell_type": "code", 
     "collapsed": false, 
     "input": [
      "Sl.subs(c/lmbd-c/lmbd0,c*(lmbd-lmbd0)/lmbd0**2)"
     ], 
     "language": "python", 
     "outputs": [
      {
       "latex": [
        "$\\operatorname{cos}\\left(2 \\frac{\\pi L}{\\lambda}\\right) e^{\\frac{\\left(\\lambda - \\lambda_{0}\\right)^{2} \\operatorname{log}\\left(2\\right)}{4 \\Delta\\lambda^{2}}}$"
       ], 
       "output_type": "pyout", 
       "png": "[encoded data removed]", 
       "prompt_number": 79, 
       "text": [
        "", 
        "                                  2       ", 
        "              (\\lambda - \\lambda\u2080) \u22c5log(2)", 
        "              \u2500\u2500\u2500\u2500\u2500\u2500\u2500\u2500\u2500\u2500\u2500\u2500\u2500\u2500\u2500\u2500\u2500\u2500\u2500\u2500\u2500\u2500\u2500\u2500\u2500\u2500\u2500\u2500", 
        "                                   2      ", 
        "   \u239b 2\u22c5\u03c0\u22c5L \u239e        4\u22c5\\Delta\\lambda       ", 
        "cos\u239c\u2500\u2500\u2500\u2500\u2500\u2500\u2500\u239f\u22c5\u212f                            ", 
        "   \u239d\\lambda\u23a0                              "
       ]
      }
     ], 
     "prompt_number": 79
    }, 
    {
     "cell_type": "markdown", 
     "source": [
      "Where we have replaced back $\\delta\\lambda$"
     ]
    }, 
    {
     "cell_type": "code", 
     "collapsed": false, 
     "input": [
      "print Sl"
     ], 
     "language": "python", 
     "outputs": [
      {
       "output_type": "stream", 
       "stream": "stdout", 
       "text": [
        "cos(2*pi*L/\\lambda)*exp(\\lambda_0**4*(c/\\lambda - c/\\lambda_0)**2*log(2)/(4*\\Delta\\lambda**2*c**2))"
       ]
      }
     ], 
     "prompt_number": 87
    }, 
    {
     "cell_type": "code", 
     "collapsed": true, 
     "input": [], 
     "language": "python", 
     "outputs": [], 
     "prompt_number": "&nbsp;"
    }
   ]
  }
 ]
}